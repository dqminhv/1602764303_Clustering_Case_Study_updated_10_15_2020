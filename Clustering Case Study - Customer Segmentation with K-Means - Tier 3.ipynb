{
  "cells": [
    {
      "cell_type": "markdown",
      "metadata": {
        "id": "view-in-github",
        "colab_type": "text"
      },
      "source": [
        "<a href=\"https://colab.research.google.com/github/dqminhv/1602764303_Clustering_Case_Study_updated_10_15_2020/blob/main/Clustering%20Case%20Study%20-%20Customer%20Segmentation%20with%20K-Means%20-%20Tier%203.ipynb\" target=\"_parent\"><img src=\"https://colab.research.google.com/assets/colab-badge.svg\" alt=\"Open In Colab\"/></a>"
      ]
    },
    {
      "cell_type": "markdown",
      "metadata": {
        "id": "zxi-VF92ymXl"
      },
      "source": [
        "# Clustering Case Study: Customer Segmentation with K-Means -  Tier 3\n",
        "***\n",
        "This case study is based on [this blog post](http://blog.yhat.com/posts/customer-segmentation-using-python.html) by the `yhat` blog. Please feel free to refer to the post for additional information, and solutions.\n",
        "\n",
        "Structure of the mini-project:\n",
        "\n",
        "1. **Sourcing and loading**\n",
        "    * Load the data\n",
        "    * Explore the data\n",
        "\n",
        "\n",
        "2. **Cleaning, transforming and visualizing**\n",
        "    * Data Wrangling: Exercise Set 1\n",
        "        - Creating a matrix with a binary indicator for whether they responded to a given offer\n",
        "        - Ensure that in doing so, NAN values are dealt with appropriately\n",
        "    \n",
        "\n",
        "3. **Modelling**\n",
        "    * K-Means clustering: Exercise Sets 2 and 3\n",
        "        - Choosing K: The Elbow method\n",
        "        - Choosing K: The Silhouette method\n",
        "        - Choosing K: The Gap statistic method\n",
        "    \n",
        "    * Visualizing clusters with PCA: Exercise Sets 4 and 5\n",
        "\n",
        "\n",
        "4. **Conclusions and next steps**\n",
        "    * Conclusions\n",
        "    * Other clustering algorithms (Exercise Set 6)"
      ]
    },
    {
      "cell_type": "code",
      "execution_count": 1,
      "metadata": {
        "id": "eLGqKM7dymXn"
      },
      "outputs": [],
      "source": [
        "%matplotlib inline\n",
        "import pandas as pd\n",
        "import sklearn\n",
        "import matplotlib.pyplot as plt\n",
        "import seaborn as sns\n",
        "\n",
        "# Setup Seaborn\n",
        "sns.set_style(\"whitegrid\")\n",
        "sns.set_context(\"poster\")"
      ]
    },
    {
      "cell_type": "markdown",
      "metadata": {
        "id": "-v84pqrpymXq"
      },
      "source": [
        "## 1. Sourcing and loading\n",
        "### 1a. Load the data\n",
        "The dataset contains information on marketing newsletters/e-mail campaigns (e-mail offers sent to customers) and transaction level data from customers. The transactional data shows which offer customers responded to, and what the customer ended up buying. The data is presented as an Excel workbook containing two worksheets. Each worksheet contains a different dataset."
      ]
    },
    {
      "cell_type": "code",
      "source": [
        "!git clone https://github.com/dqminhv/1602764303_Clustering_Case_Study_updated_10_15_2020.git"
      ],
      "metadata": {
        "colab": {
          "base_uri": "https://localhost:8080/"
        },
        "id": "WL3EuXbvbX3g",
        "outputId": "9e6bbead-d786-44a4-8a16-2c9341655f79"
      },
      "execution_count": 4,
      "outputs": [
        {
          "output_type": "stream",
          "name": "stdout",
          "text": [
            "Cloning into '1602764303_Clustering_Case_Study_updated_10_15_2020'...\n",
            "remote: Enumerating objects: 8, done.\u001b[K\n",
            "remote: Counting objects: 100% (8/8), done.\u001b[K\n",
            "remote: Compressing objects: 100% (6/6), done.\u001b[K\n",
            "remote: Total 8 (delta 1), reused 8 (delta 1), pack-reused 0\u001b[K\n",
            "Receiving objects: 100% (8/8), 49.08 KiB | 605.00 KiB/s, done.\n",
            "Resolving deltas: 100% (1/1), done.\n"
          ]
        }
      ]
    },
    {
      "cell_type": "code",
      "execution_count": 5,
      "metadata": {
        "colab": {
          "base_uri": "https://localhost:8080/"
        },
        "id": "o6VegVF9ymXr",
        "outputId": "c14cab18-d1ba-499b-8975-fd549ff5c5d7"
      },
      "outputs": [
        {
          "output_type": "stream",
          "name": "stderr",
          "text": [
            "/usr/local/lib/python3.10/dist-packages/openpyxl/worksheet/_reader.py:329: UserWarning: Unknown extension is not supported and will be removed\n",
            "  warn(msg)\n"
          ]
        }
      ],
      "source": [
        "df_offers = pd.read_excel(\"/content/1602764303_Clustering_Case_Study_updated_10_15_2020/WineKMC.xlsx\", sheet_name=0)"
      ]
    },
    {
      "cell_type": "markdown",
      "metadata": {
        "id": "4ed8ZPwPymXu"
      },
      "source": [
        "### 1b. Explore the data"
      ]
    },
    {
      "cell_type": "code",
      "execution_count": 6,
      "metadata": {
        "colab": {
          "base_uri": "https://localhost:8080/",
          "height": 206
        },
        "id": "nyFOb6oEymXv",
        "outputId": "a54560f1-5be4-4385-f192-5ba8ea3e50ff"
      },
      "outputs": [
        {
          "output_type": "execute_result",
          "data": {
            "text/plain": [
              "   offer_id  campaign            varietal  min_qty  discount       origin  \\\n",
              "0         1   January              Malbec       72        56       France   \n",
              "1         2   January          Pinot Noir       72        17       France   \n",
              "2         3  February           Espumante      144        32       Oregon   \n",
              "3         4  February           Champagne       72        48       France   \n",
              "4         5  February  Cabernet Sauvignon      144        44  New Zealand   \n",
              "\n",
              "   past_peak  \n",
              "0      False  \n",
              "1      False  \n",
              "2       True  \n",
              "3       True  \n",
              "4       True  "
            ],
            "text/html": [
              "\n",
              "  <div id=\"df-3b4a917c-ba5a-485d-a0c8-03a6271e1dce\" class=\"colab-df-container\">\n",
              "    <div>\n",
              "<style scoped>\n",
              "    .dataframe tbody tr th:only-of-type {\n",
              "        vertical-align: middle;\n",
              "    }\n",
              "\n",
              "    .dataframe tbody tr th {\n",
              "        vertical-align: top;\n",
              "    }\n",
              "\n",
              "    .dataframe thead th {\n",
              "        text-align: right;\n",
              "    }\n",
              "</style>\n",
              "<table border=\"1\" class=\"dataframe\">\n",
              "  <thead>\n",
              "    <tr style=\"text-align: right;\">\n",
              "      <th></th>\n",
              "      <th>offer_id</th>\n",
              "      <th>campaign</th>\n",
              "      <th>varietal</th>\n",
              "      <th>min_qty</th>\n",
              "      <th>discount</th>\n",
              "      <th>origin</th>\n",
              "      <th>past_peak</th>\n",
              "    </tr>\n",
              "  </thead>\n",
              "  <tbody>\n",
              "    <tr>\n",
              "      <th>0</th>\n",
              "      <td>1</td>\n",
              "      <td>January</td>\n",
              "      <td>Malbec</td>\n",
              "      <td>72</td>\n",
              "      <td>56</td>\n",
              "      <td>France</td>\n",
              "      <td>False</td>\n",
              "    </tr>\n",
              "    <tr>\n",
              "      <th>1</th>\n",
              "      <td>2</td>\n",
              "      <td>January</td>\n",
              "      <td>Pinot Noir</td>\n",
              "      <td>72</td>\n",
              "      <td>17</td>\n",
              "      <td>France</td>\n",
              "      <td>False</td>\n",
              "    </tr>\n",
              "    <tr>\n",
              "      <th>2</th>\n",
              "      <td>3</td>\n",
              "      <td>February</td>\n",
              "      <td>Espumante</td>\n",
              "      <td>144</td>\n",
              "      <td>32</td>\n",
              "      <td>Oregon</td>\n",
              "      <td>True</td>\n",
              "    </tr>\n",
              "    <tr>\n",
              "      <th>3</th>\n",
              "      <td>4</td>\n",
              "      <td>February</td>\n",
              "      <td>Champagne</td>\n",
              "      <td>72</td>\n",
              "      <td>48</td>\n",
              "      <td>France</td>\n",
              "      <td>True</td>\n",
              "    </tr>\n",
              "    <tr>\n",
              "      <th>4</th>\n",
              "      <td>5</td>\n",
              "      <td>February</td>\n",
              "      <td>Cabernet Sauvignon</td>\n",
              "      <td>144</td>\n",
              "      <td>44</td>\n",
              "      <td>New Zealand</td>\n",
              "      <td>True</td>\n",
              "    </tr>\n",
              "  </tbody>\n",
              "</table>\n",
              "</div>\n",
              "    <div class=\"colab-df-buttons\">\n",
              "\n",
              "  <div class=\"colab-df-container\">\n",
              "    <button class=\"colab-df-convert\" onclick=\"convertToInteractive('df-3b4a917c-ba5a-485d-a0c8-03a6271e1dce')\"\n",
              "            title=\"Convert this dataframe to an interactive table.\"\n",
              "            style=\"display:none;\">\n",
              "\n",
              "  <svg xmlns=\"http://www.w3.org/2000/svg\" height=\"24px\" viewBox=\"0 -960 960 960\">\n",
              "    <path d=\"M120-120v-720h720v720H120Zm60-500h600v-160H180v160Zm220 220h160v-160H400v160Zm0 220h160v-160H400v160ZM180-400h160v-160H180v160Zm440 0h160v-160H620v160ZM180-180h160v-160H180v160Zm440 0h160v-160H620v160Z\"/>\n",
              "  </svg>\n",
              "    </button>\n",
              "\n",
              "  <style>\n",
              "    .colab-df-container {\n",
              "      display:flex;\n",
              "      gap: 12px;\n",
              "    }\n",
              "\n",
              "    .colab-df-convert {\n",
              "      background-color: #E8F0FE;\n",
              "      border: none;\n",
              "      border-radius: 50%;\n",
              "      cursor: pointer;\n",
              "      display: none;\n",
              "      fill: #1967D2;\n",
              "      height: 32px;\n",
              "      padding: 0 0 0 0;\n",
              "      width: 32px;\n",
              "    }\n",
              "\n",
              "    .colab-df-convert:hover {\n",
              "      background-color: #E2EBFA;\n",
              "      box-shadow: 0px 1px 2px rgba(60, 64, 67, 0.3), 0px 1px 3px 1px rgba(60, 64, 67, 0.15);\n",
              "      fill: #174EA6;\n",
              "    }\n",
              "\n",
              "    .colab-df-buttons div {\n",
              "      margin-bottom: 4px;\n",
              "    }\n",
              "\n",
              "    [theme=dark] .colab-df-convert {\n",
              "      background-color: #3B4455;\n",
              "      fill: #D2E3FC;\n",
              "    }\n",
              "\n",
              "    [theme=dark] .colab-df-convert:hover {\n",
              "      background-color: #434B5C;\n",
              "      box-shadow: 0px 1px 3px 1px rgba(0, 0, 0, 0.15);\n",
              "      filter: drop-shadow(0px 1px 2px rgba(0, 0, 0, 0.3));\n",
              "      fill: #FFFFFF;\n",
              "    }\n",
              "  </style>\n",
              "\n",
              "    <script>\n",
              "      const buttonEl =\n",
              "        document.querySelector('#df-3b4a917c-ba5a-485d-a0c8-03a6271e1dce button.colab-df-convert');\n",
              "      buttonEl.style.display =\n",
              "        google.colab.kernel.accessAllowed ? 'block' : 'none';\n",
              "\n",
              "      async function convertToInteractive(key) {\n",
              "        const element = document.querySelector('#df-3b4a917c-ba5a-485d-a0c8-03a6271e1dce');\n",
              "        const dataTable =\n",
              "          await google.colab.kernel.invokeFunction('convertToInteractive',\n",
              "                                                    [key], {});\n",
              "        if (!dataTable) return;\n",
              "\n",
              "        const docLinkHtml = 'Like what you see? Visit the ' +\n",
              "          '<a target=\"_blank\" href=https://colab.research.google.com/notebooks/data_table.ipynb>data table notebook</a>'\n",
              "          + ' to learn more about interactive tables.';\n",
              "        element.innerHTML = '';\n",
              "        dataTable['output_type'] = 'display_data';\n",
              "        await google.colab.output.renderOutput(dataTable, element);\n",
              "        const docLink = document.createElement('div');\n",
              "        docLink.innerHTML = docLinkHtml;\n",
              "        element.appendChild(docLink);\n",
              "      }\n",
              "    </script>\n",
              "  </div>\n",
              "\n",
              "\n",
              "<div id=\"df-b43f8e2b-5048-413f-bf25-1dac8e903ebc\">\n",
              "  <button class=\"colab-df-quickchart\" onclick=\"quickchart('df-b43f8e2b-5048-413f-bf25-1dac8e903ebc')\"\n",
              "            title=\"Suggest charts.\"\n",
              "            style=\"display:none;\">\n",
              "\n",
              "<svg xmlns=\"http://www.w3.org/2000/svg\" height=\"24px\"viewBox=\"0 0 24 24\"\n",
              "     width=\"24px\">\n",
              "    <g>\n",
              "        <path d=\"M19 3H5c-1.1 0-2 .9-2 2v14c0 1.1.9 2 2 2h14c1.1 0 2-.9 2-2V5c0-1.1-.9-2-2-2zM9 17H7v-7h2v7zm4 0h-2V7h2v10zm4 0h-2v-4h2v4z\"/>\n",
              "    </g>\n",
              "</svg>\n",
              "  </button>\n",
              "\n",
              "<style>\n",
              "  .colab-df-quickchart {\n",
              "    background-color: #E8F0FE;\n",
              "    border: none;\n",
              "    border-radius: 50%;\n",
              "    cursor: pointer;\n",
              "    display: none;\n",
              "    fill: #1967D2;\n",
              "    height: 32px;\n",
              "    padding: 0 0 0 0;\n",
              "    width: 32px;\n",
              "  }\n",
              "\n",
              "  .colab-df-quickchart:hover {\n",
              "    background-color: #E2EBFA;\n",
              "    box-shadow: 0px 1px 2px rgba(60, 64, 67, 0.3), 0px 1px 3px 1px rgba(60, 64, 67, 0.15);\n",
              "    fill: #174EA6;\n",
              "  }\n",
              "\n",
              "  [theme=dark] .colab-df-quickchart {\n",
              "    background-color: #3B4455;\n",
              "    fill: #D2E3FC;\n",
              "  }\n",
              "\n",
              "  [theme=dark] .colab-df-quickchart:hover {\n",
              "    background-color: #434B5C;\n",
              "    box-shadow: 0px 1px 3px 1px rgba(0, 0, 0, 0.15);\n",
              "    filter: drop-shadow(0px 1px 2px rgba(0, 0, 0, 0.3));\n",
              "    fill: #FFFFFF;\n",
              "  }\n",
              "</style>\n",
              "\n",
              "  <script>\n",
              "    async function quickchart(key) {\n",
              "      const charts = await google.colab.kernel.invokeFunction(\n",
              "          'suggestCharts', [key], {});\n",
              "    }\n",
              "    (() => {\n",
              "      let quickchartButtonEl =\n",
              "        document.querySelector('#df-b43f8e2b-5048-413f-bf25-1dac8e903ebc button');\n",
              "      quickchartButtonEl.style.display =\n",
              "        google.colab.kernel.accessAllowed ? 'block' : 'none';\n",
              "    })();\n",
              "  </script>\n",
              "</div>\n",
              "    </div>\n",
              "  </div>\n"
            ]
          },
          "metadata": {},
          "execution_count": 6
        }
      ],
      "source": [
        "df_offers.columns = [\"offer_id\", \"campaign\", \"varietal\", \"min_qty\", \"discount\", \"origin\", \"past_peak\"]\n",
        "df_offers.head()"
      ]
    },
    {
      "cell_type": "markdown",
      "metadata": {
        "id": "1OsRt52wymXx"
      },
      "source": [
        "We see that the first dataset contains information about each offer such as the month it is in effect and several attributes about the wine that the offer refers to: the variety, minimum quantity, discount, country of origin and whether or not it is past peak. The second dataset in the second worksheet contains transactional data -- which offer each customer responded to."
      ]
    },
    {
      "cell_type": "code",
      "execution_count": 8,
      "metadata": {
        "colab": {
          "base_uri": "https://localhost:8080/",
          "height": 241
        },
        "id": "IkYD9ZVOymXy",
        "outputId": "4b1a87c5-e136-44f6-ef1c-f1209d29948e"
      },
      "outputs": [
        {
          "output_type": "stream",
          "name": "stderr",
          "text": [
            "/usr/local/lib/python3.10/dist-packages/openpyxl/worksheet/_reader.py:329: UserWarning: Unknown extension is not supported and will be removed\n",
            "  warn(msg)\n"
          ]
        },
        {
          "output_type": "execute_result",
          "data": {
            "text/plain": [
              "  customer_name  offer_id  n\n",
              "0         Smith         2  1\n",
              "1         Smith        24  1\n",
              "2       Johnson        17  1\n",
              "3       Johnson        24  1\n",
              "4       Johnson        26  1"
            ],
            "text/html": [
              "\n",
              "  <div id=\"df-291464b7-5c5f-4d4e-af9b-39690fcd65e0\" class=\"colab-df-container\">\n",
              "    <div>\n",
              "<style scoped>\n",
              "    .dataframe tbody tr th:only-of-type {\n",
              "        vertical-align: middle;\n",
              "    }\n",
              "\n",
              "    .dataframe tbody tr th {\n",
              "        vertical-align: top;\n",
              "    }\n",
              "\n",
              "    .dataframe thead th {\n",
              "        text-align: right;\n",
              "    }\n",
              "</style>\n",
              "<table border=\"1\" class=\"dataframe\">\n",
              "  <thead>\n",
              "    <tr style=\"text-align: right;\">\n",
              "      <th></th>\n",
              "      <th>customer_name</th>\n",
              "      <th>offer_id</th>\n",
              "      <th>n</th>\n",
              "    </tr>\n",
              "  </thead>\n",
              "  <tbody>\n",
              "    <tr>\n",
              "      <th>0</th>\n",
              "      <td>Smith</td>\n",
              "      <td>2</td>\n",
              "      <td>1</td>\n",
              "    </tr>\n",
              "    <tr>\n",
              "      <th>1</th>\n",
              "      <td>Smith</td>\n",
              "      <td>24</td>\n",
              "      <td>1</td>\n",
              "    </tr>\n",
              "    <tr>\n",
              "      <th>2</th>\n",
              "      <td>Johnson</td>\n",
              "      <td>17</td>\n",
              "      <td>1</td>\n",
              "    </tr>\n",
              "    <tr>\n",
              "      <th>3</th>\n",
              "      <td>Johnson</td>\n",
              "      <td>24</td>\n",
              "      <td>1</td>\n",
              "    </tr>\n",
              "    <tr>\n",
              "      <th>4</th>\n",
              "      <td>Johnson</td>\n",
              "      <td>26</td>\n",
              "      <td>1</td>\n",
              "    </tr>\n",
              "  </tbody>\n",
              "</table>\n",
              "</div>\n",
              "    <div class=\"colab-df-buttons\">\n",
              "\n",
              "  <div class=\"colab-df-container\">\n",
              "    <button class=\"colab-df-convert\" onclick=\"convertToInteractive('df-291464b7-5c5f-4d4e-af9b-39690fcd65e0')\"\n",
              "            title=\"Convert this dataframe to an interactive table.\"\n",
              "            style=\"display:none;\">\n",
              "\n",
              "  <svg xmlns=\"http://www.w3.org/2000/svg\" height=\"24px\" viewBox=\"0 -960 960 960\">\n",
              "    <path d=\"M120-120v-720h720v720H120Zm60-500h600v-160H180v160Zm220 220h160v-160H400v160Zm0 220h160v-160H400v160ZM180-400h160v-160H180v160Zm440 0h160v-160H620v160ZM180-180h160v-160H180v160Zm440 0h160v-160H620v160Z\"/>\n",
              "  </svg>\n",
              "    </button>\n",
              "\n",
              "  <style>\n",
              "    .colab-df-container {\n",
              "      display:flex;\n",
              "      gap: 12px;\n",
              "    }\n",
              "\n",
              "    .colab-df-convert {\n",
              "      background-color: #E8F0FE;\n",
              "      border: none;\n",
              "      border-radius: 50%;\n",
              "      cursor: pointer;\n",
              "      display: none;\n",
              "      fill: #1967D2;\n",
              "      height: 32px;\n",
              "      padding: 0 0 0 0;\n",
              "      width: 32px;\n",
              "    }\n",
              "\n",
              "    .colab-df-convert:hover {\n",
              "      background-color: #E2EBFA;\n",
              "      box-shadow: 0px 1px 2px rgba(60, 64, 67, 0.3), 0px 1px 3px 1px rgba(60, 64, 67, 0.15);\n",
              "      fill: #174EA6;\n",
              "    }\n",
              "\n",
              "    .colab-df-buttons div {\n",
              "      margin-bottom: 4px;\n",
              "    }\n",
              "\n",
              "    [theme=dark] .colab-df-convert {\n",
              "      background-color: #3B4455;\n",
              "      fill: #D2E3FC;\n",
              "    }\n",
              "\n",
              "    [theme=dark] .colab-df-convert:hover {\n",
              "      background-color: #434B5C;\n",
              "      box-shadow: 0px 1px 3px 1px rgba(0, 0, 0, 0.15);\n",
              "      filter: drop-shadow(0px 1px 2px rgba(0, 0, 0, 0.3));\n",
              "      fill: #FFFFFF;\n",
              "    }\n",
              "  </style>\n",
              "\n",
              "    <script>\n",
              "      const buttonEl =\n",
              "        document.querySelector('#df-291464b7-5c5f-4d4e-af9b-39690fcd65e0 button.colab-df-convert');\n",
              "      buttonEl.style.display =\n",
              "        google.colab.kernel.accessAllowed ? 'block' : 'none';\n",
              "\n",
              "      async function convertToInteractive(key) {\n",
              "        const element = document.querySelector('#df-291464b7-5c5f-4d4e-af9b-39690fcd65e0');\n",
              "        const dataTable =\n",
              "          await google.colab.kernel.invokeFunction('convertToInteractive',\n",
              "                                                    [key], {});\n",
              "        if (!dataTable) return;\n",
              "\n",
              "        const docLinkHtml = 'Like what you see? Visit the ' +\n",
              "          '<a target=\"_blank\" href=https://colab.research.google.com/notebooks/data_table.ipynb>data table notebook</a>'\n",
              "          + ' to learn more about interactive tables.';\n",
              "        element.innerHTML = '';\n",
              "        dataTable['output_type'] = 'display_data';\n",
              "        await google.colab.output.renderOutput(dataTable, element);\n",
              "        const docLink = document.createElement('div');\n",
              "        docLink.innerHTML = docLinkHtml;\n",
              "        element.appendChild(docLink);\n",
              "      }\n",
              "    </script>\n",
              "  </div>\n",
              "\n",
              "\n",
              "<div id=\"df-5e00893e-fe26-4882-a581-99e93fe9094b\">\n",
              "  <button class=\"colab-df-quickchart\" onclick=\"quickchart('df-5e00893e-fe26-4882-a581-99e93fe9094b')\"\n",
              "            title=\"Suggest charts.\"\n",
              "            style=\"display:none;\">\n",
              "\n",
              "<svg xmlns=\"http://www.w3.org/2000/svg\" height=\"24px\"viewBox=\"0 0 24 24\"\n",
              "     width=\"24px\">\n",
              "    <g>\n",
              "        <path d=\"M19 3H5c-1.1 0-2 .9-2 2v14c0 1.1.9 2 2 2h14c1.1 0 2-.9 2-2V5c0-1.1-.9-2-2-2zM9 17H7v-7h2v7zm4 0h-2V7h2v10zm4 0h-2v-4h2v4z\"/>\n",
              "    </g>\n",
              "</svg>\n",
              "  </button>\n",
              "\n",
              "<style>\n",
              "  .colab-df-quickchart {\n",
              "    background-color: #E8F0FE;\n",
              "    border: none;\n",
              "    border-radius: 50%;\n",
              "    cursor: pointer;\n",
              "    display: none;\n",
              "    fill: #1967D2;\n",
              "    height: 32px;\n",
              "    padding: 0 0 0 0;\n",
              "    width: 32px;\n",
              "  }\n",
              "\n",
              "  .colab-df-quickchart:hover {\n",
              "    background-color: #E2EBFA;\n",
              "    box-shadow: 0px 1px 2px rgba(60, 64, 67, 0.3), 0px 1px 3px 1px rgba(60, 64, 67, 0.15);\n",
              "    fill: #174EA6;\n",
              "  }\n",
              "\n",
              "  [theme=dark] .colab-df-quickchart {\n",
              "    background-color: #3B4455;\n",
              "    fill: #D2E3FC;\n",
              "  }\n",
              "\n",
              "  [theme=dark] .colab-df-quickchart:hover {\n",
              "    background-color: #434B5C;\n",
              "    box-shadow: 0px 1px 3px 1px rgba(0, 0, 0, 0.15);\n",
              "    filter: drop-shadow(0px 1px 2px rgba(0, 0, 0, 0.3));\n",
              "    fill: #FFFFFF;\n",
              "  }\n",
              "</style>\n",
              "\n",
              "  <script>\n",
              "    async function quickchart(key) {\n",
              "      const charts = await google.colab.kernel.invokeFunction(\n",
              "          'suggestCharts', [key], {});\n",
              "    }\n",
              "    (() => {\n",
              "      let quickchartButtonEl =\n",
              "        document.querySelector('#df-5e00893e-fe26-4882-a581-99e93fe9094b button');\n",
              "      quickchartButtonEl.style.display =\n",
              "        google.colab.kernel.accessAllowed ? 'block' : 'none';\n",
              "    })();\n",
              "  </script>\n",
              "</div>\n",
              "    </div>\n",
              "  </div>\n"
            ]
          },
          "metadata": {},
          "execution_count": 8
        }
      ],
      "source": [
        "df_transactions = pd.read_excel(\"/content/1602764303_Clustering_Case_Study_updated_10_15_2020/WineKMC.xlsx\", sheet_name=1)\n",
        "df_transactions.columns = [\"customer_name\", \"offer_id\"]\n",
        "df_transactions['n'] = 1\n",
        "df_transactions.head()"
      ]
    },
    {
      "cell_type": "markdown",
      "metadata": {
        "id": "Gm55bMGlymX2"
      },
      "source": [
        "## 2. Cleaning, transforming and visualizing\n",
        "### 2a. Data Wrangling"
      ]
    },
    {
      "cell_type": "markdown",
      "metadata": {
        "id": "OQ5kUMJOymX3"
      },
      "source": [
        "We're trying to learn more about how our customers behave, so we can use their behavior (whether or not they purchased something based on an offer) as a way to group similar minded customers together. We can then study those groups to look for patterns and trends which can help us formulate future offers.\n",
        "\n",
        "The first thing we need is a way to compare customers. To do this, we're going to create a matrix that contains each customer and a 0/1 indicator for whether or not they responded to a given offer."
      ]
    },
    {
      "cell_type": "markdown",
      "metadata": {
        "id": "ogzDotBpymX3"
      },
      "source": [
        "<div class=\"span5 alert alert-info\">\n",
        "<h3>Checkup Exercise Set I</h3>\n",
        "\n",
        "<p><b>Exercise:</b> Create a data frame where each row has the following columns (Use the pandas [`merge`](http://pandas.pydata.org/pandas-docs/stable/generated/pandas.DataFrame.merge.html) and [`pivot_table`](http://pandas.pydata.org/pandas-docs/stable/generated/pandas.pivot_table.html) functions for this purpose):\n",
        "<ul>\n",
        "<li> customer_name\n",
        "<li> One column for each offer, with a 1 if the customer responded to the offer\n",
        "</ul>\n",
        "<p>Make sure you also deal with any weird values such as `NaN`. Read the documentation to develop your solution.</p>\n",
        "</div>"
      ]
    },
    {
      "cell_type": "code",
      "execution_count": 10,
      "metadata": {
        "colab": {
          "base_uri": "https://localhost:8080/"
        },
        "id": "IqC9L98ZymX4",
        "scrolled": true,
        "outputId": "a995411b-d7d5-4371-a69a-afee8509a62f"
      },
      "outputs": [
        {
          "output_type": "stream",
          "name": "stdout",
          "text": [
            "offer_id       1   2   3   4   5   6   7   8   9   10  ...  23  24  25  26  \\\n",
            "customer_name                                          ...                   \n",
            "Adams           0   0   0   0   0   0   0   0   0   0  ...   0   0   0   0   \n",
            "Allen           0   0   0   0   0   0   0   0   1   0  ...   0   0   0   0   \n",
            "Anderson        0   0   0   0   0   0   0   0   0   0  ...   0   1   0   1   \n",
            "Bailey          0   0   0   0   0   0   1   0   0   0  ...   0   0   0   0   \n",
            "Baker           0   0   0   0   0   0   1   0   0   1  ...   0   0   0   0   \n",
            "...            ..  ..  ..  ..  ..  ..  ..  ..  ..  ..  ...  ..  ..  ..  ..   \n",
            "Williams        0   0   0   0   0   0   0   0   0   0  ...   0   0   0   0   \n",
            "Wilson          0   0   0   0   0   0   0   1   0   0  ...   0   0   0   0   \n",
            "Wood            1   0   0   0   0   0   0   0   0   1  ...   0   0   0   0   \n",
            "Wright          0   0   0   1   0   1   0   0   0   0  ...   0   0   0   0   \n",
            "Young           0   0   0   0   0   1   0   0   1   0  ...   0   0   0   0   \n",
            "\n",
            "offer_id       27  28  29  30  31  32  \n",
            "customer_name                          \n",
            "Adams           0   0   1   1   0   0  \n",
            "Allen           1   0   0   0   0   0  \n",
            "Anderson        0   0   0   0   0   0  \n",
            "Bailey          0   0   0   1   0   0  \n",
            "Baker           0   0   0   0   1   0  \n",
            "...            ..  ..  ..  ..  ..  ..  \n",
            "Williams        0   0   0   0   1   0  \n",
            "Wilson          0   0   0   1   0   0  \n",
            "Wood            0   0   0   0   1   0  \n",
            "Wright          1   0   0   0   0   0  \n",
            "Young           0   0   0   0   1   1  \n",
            "\n",
            "[100 rows x 32 columns]\n"
          ]
        }
      ],
      "source": [
        "#your turn\n",
        "# Merge DataFrames based on 'offer_id'\n",
        "merged_df = df_transactions.merge(df_offers, on='offer_id', how='left')\n",
        "merged_df.fillna(0, inplace=True)\n",
        "\n",
        "# Pivot table to reshape the data\n",
        "pivot_table = merged_df.pivot_table(index='customer_name', columns='offer_id', values='n', fill_value=0)\n",
        "\n",
        "print(pivot_table)"
      ]
    },
    {
      "cell_type": "markdown",
      "metadata": {
        "id": "_XELvcC-ymX7"
      },
      "source": [
        "## 3. Modelling\n",
        "### 3a. K-Means Clustering\n",
        "\n",
        "Recall that in K-Means Clustering we want to *maximize* the distance between centroids and *minimize* the distance between data points and the respective centroid for the cluster they are in. True evaluation for unsupervised learning would require labeled data; however, we can use a variety of intuitive metrics to try to pick the number of clusters K. We will introduce two methods: the Elbow method, the Silhouette method and the gap statistic."
      ]
    },
    {
      "cell_type": "markdown",
      "metadata": {
        "id": "B7lnwb9HymX8"
      },
      "source": [
        "#### 3ai. Choosing K: The Elbow Sum-of-Squares Method\n",
        "\n",
        "The first method looks at the sum-of-squares error in each cluster against $K$. We compute the distance from each data point to the center of the cluster (centroid) to which the data point was assigned.\n",
        "\n",
        "$$SS = \\sum_k \\sum_{x_i \\in C_k} \\sum_{x_j \\in C_k} \\left( x_i - x_j \\right)^2 = \\sum_k \\sum_{x_i \\in C_k} \\left( x_i - \\mu_k \\right)^2$$\n",
        "\n",
        "where $x_i$ is a point, $C_k$ represents cluster $k$ and $\\mu_k$ is the centroid for cluster $k$. We can plot SS vs. $K$ and choose the *elbow point* in the plot as the best value for $K$. The elbow point is the point at which the plot starts descending much more slowly.\n",
        "\n",
        "**Hint:** the Elbow Method is discussed in part 2 of the Harvard Clustering lecture."
      ]
    },
    {
      "cell_type": "markdown",
      "metadata": {
        "id": "o5T4iBfqymX-"
      },
      "source": [
        "<div class=\"span5 alert alert-info\">\n",
        "<h3>Checkup Exercise Set II</h3>\n",
        "\n",
        "<p><b>Exercise:</b></p>\n",
        "<ul>\n",
        "<li> What values of $SS$ do you believe represent better clusterings? Why?\n",
        "<li> Create a numpy matrix `x_cols` with only the columns representing the offers (i.e. the 0/1 colums)\n",
        "<li> Write code that applies the [`KMeans`](http://scikit-learn.org/stable/modules/generated/sklearn.cluster.KMeans.html) clustering method from scikit-learn to this matrix.\n",
        "<li> Construct a plot showing $SS$ for each $K$ and pick $K$ using this plot. For simplicity, test $2 \\le K \\le 10$.\n",
        "<li> Make a bar chart showing the number of points in each cluster for k-means under the best $K$.\n",
        "<li> What challenges did you experience using the Elbow method to pick $K$?\n",
        "</ul>\n",
        "</div>"
      ]
    },
    {
      "cell_type": "code",
      "execution_count": 15,
      "metadata": {
        "id": "mG_tbcIdymX-"
      },
      "outputs": [],
      "source": [
        "# your turn\n",
        "# The lower the value of SS, the better the clusterings because lower SS means the data points are assigned to better centroids.\n",
        "x_cols = pivot_table.iloc[:,:].values"
      ]
    },
    {
      "cell_type": "code",
      "source": [
        "from sklearn.cluster import KMeans\n",
        "\n",
        "# Number of clusters\n",
        "cluster_range = range(2, 10)\n",
        "\n",
        "# Initialize lists to store inertia values\n",
        "inertia_values = []\n",
        "\n",
        "for n_clusters in cluster_range:\n",
        "    kmeans = KMeans(n_clusters=n_clusters, random_state=42)\n",
        "    kmeans.fit(x_cols)\n",
        "    inertia_values.append(kmeans.inertia_)\n",
        "\n",
        "# Plot the inertia values\n",
        "plt.plot(cluster_range, inertia_values, marker='o')\n",
        "plt.xlabel('Number of Clusters')\n",
        "plt.ylabel('Inertia')\n",
        "plt.title('Inertia vs. Number of Clusters')\n",
        "plt.show()"
      ],
      "metadata": {
        "colab": {
          "base_uri": "https://localhost:8080/",
          "height": 828
        },
        "id": "uGh09jCvjfsM",
        "outputId": "83cd9114-bc78-49a2-da5d-df4f6a27d5d0"
      },
      "execution_count": 21,
      "outputs": [
        {
          "output_type": "stream",
          "name": "stderr",
          "text": [
            "/usr/local/lib/python3.10/dist-packages/sklearn/cluster/_kmeans.py:870: FutureWarning: The default value of `n_init` will change from 10 to 'auto' in 1.4. Set the value of `n_init` explicitly to suppress the warning\n",
            "  warnings.warn(\n",
            "/usr/local/lib/python3.10/dist-packages/sklearn/cluster/_kmeans.py:870: FutureWarning: The default value of `n_init` will change from 10 to 'auto' in 1.4. Set the value of `n_init` explicitly to suppress the warning\n",
            "  warnings.warn(\n",
            "/usr/local/lib/python3.10/dist-packages/sklearn/cluster/_kmeans.py:870: FutureWarning: The default value of `n_init` will change from 10 to 'auto' in 1.4. Set the value of `n_init` explicitly to suppress the warning\n",
            "  warnings.warn(\n",
            "/usr/local/lib/python3.10/dist-packages/sklearn/cluster/_kmeans.py:870: FutureWarning: The default value of `n_init` will change from 10 to 'auto' in 1.4. Set the value of `n_init` explicitly to suppress the warning\n",
            "  warnings.warn(\n",
            "/usr/local/lib/python3.10/dist-packages/sklearn/cluster/_kmeans.py:870: FutureWarning: The default value of `n_init` will change from 10 to 'auto' in 1.4. Set the value of `n_init` explicitly to suppress the warning\n",
            "  warnings.warn(\n",
            "/usr/local/lib/python3.10/dist-packages/sklearn/cluster/_kmeans.py:870: FutureWarning: The default value of `n_init` will change from 10 to 'auto' in 1.4. Set the value of `n_init` explicitly to suppress the warning\n",
            "  warnings.warn(\n",
            "/usr/local/lib/python3.10/dist-packages/sklearn/cluster/_kmeans.py:870: FutureWarning: The default value of `n_init` will change from 10 to 'auto' in 1.4. Set the value of `n_init` explicitly to suppress the warning\n",
            "  warnings.warn(\n",
            "/usr/local/lib/python3.10/dist-packages/sklearn/cluster/_kmeans.py:870: FutureWarning: The default value of `n_init` will change from 10 to 'auto' in 1.4. Set the value of `n_init` explicitly to suppress the warning\n",
            "  warnings.warn(\n"
          ]
        },
        {
          "output_type": "display_data",
          "data": {
            "text/plain": [
              "<Figure size 640x480 with 1 Axes>"
            ],
            "image/png": "[encoded data removed]"
          },
          "metadata": {}
        }
      ]
    },
    {
      "cell_type": "code",
      "source": [
        "#From the plot above, we choose K=3 as the best K\n",
        "\n",
        "import numpy as np\n",
        "# Number of clusters\n",
        "best_k = 3\n",
        "\n",
        "# Initialize KMeans model\n",
        "kmeans = KMeans(n_clusters=best_k, random_state=42)\n",
        "\n",
        "# Fit KMeans model to the data\n",
        "kmeans.fit(x_cols)\n",
        "\n",
        "# Predict clusters for each data point\n",
        "cluster_labels = kmeans.predict(x_cols)\n",
        "\n",
        "# Print the cluster labels for each data point\n",
        "print(\"Cluster Labels:\", cluster_labels)\n",
        "\n",
        "# Count the number of points in each cluster\n",
        "cluster_counts = np.bincount(cluster_labels)\n",
        "\n",
        "# Create a bar chart\n",
        "plt.bar(range(best_k), cluster_counts, tick_label=range(1, best_k+1))\n",
        "plt.xlabel('Cluster')\n",
        "plt.ylabel('Number of Points')\n",
        "plt.title(f'Number of Points in Each Cluster for K = {best_k}')\n",
        "# Add annotations to each bar\n",
        "for i, count in enumerate(cluster_counts):\n",
        "    plt.text(i, count + 0.2, str(count), ha='center', va='bottom')\n",
        "\n",
        "plt.show()"
      ],
      "metadata": {
        "colab": {
          "base_uri": "https://localhost:8080/",
          "height": 637
        },
        "id": "LXnrZJcik3k8",
        "outputId": "d340cd1e-3bde-40e2-8b78-d69d3a98c020"
      },
      "execution_count": 24,
      "outputs": [
        {
          "output_type": "stream",
          "name": "stderr",
          "text": [
            "/usr/local/lib/python3.10/dist-packages/sklearn/cluster/_kmeans.py:870: FutureWarning: The default value of `n_init` will change from 10 to 'auto' in 1.4. Set the value of `n_init` explicitly to suppress the warning\n",
            "  warnings.warn(\n"
          ]
        },
        {
          "output_type": "stream",
          "name": "stdout",
          "text": [
            "Cluster Labels: [2 0 1 2 0 0 1 2 0 2 0 1 2 0 0 1 0 1 2 0 2 2 0 0 1 0 0 0 0 1 2 2 0 0 2 2 0\n",
            " 2 0 2 1 1 2 0 2 0 2 2 0 0 0 0 0 1 0 2 1 2 2 0 0 2 0 2 2 1 1 0 0 0 0 0 0 2\n",
            " 0 2 1 2 2 1 0 0 0 1 2 2 2 0 0 2 0 2 0 2 0 0 2 0 0 0]\n"
          ]
        },
        {
          "output_type": "display_data",
          "data": {
            "text/plain": [
              "<Figure size 640x480 with 1 Axes>"
            ],
            "image/png": "[encoded data removed]"
          },
          "metadata": {}
        }
      ]
    },
    {
      "cell_type": "markdown",
      "metadata": {
        "id": "OM08MgqiymYB"
      },
      "source": [
        "#### 3aii. Choosing K: The Silhouette Method\n",
        "\n",
        "There exists another method that measures how well each datapoint $x_i$ \"fits\" its assigned cluster *and also* how poorly it fits into other clusters. This is a different way of looking at the same objective. Denote $a_{x_i}$ as the *average* distance from $x_i$ to all other points within its own cluster $k$. The lower the value, the better. On the other hand $b_{x_i}$ is the minimum average distance from $x_i$ to points in a different cluster, minimized over clusters. That is, compute separately for each cluster the average distance from $x_i$ to the points within that cluster, and then take the minimum. The silhouette $s(x_i)$ is defined as\n",
        "\n",
        "$$s(x_i) = \\frac{b_{x_i} - a_{x_i}}{\\max{\\left( a_{x_i}, b_{x_i}\\right)}}$$\n",
        "\n",
        "The silhouette score is computed on *every datapoint in every cluster*. The silhouette score ranges from -1 (a poor clustering) to +1 (a very dense clustering) with 0 denoting the situation where clusters overlap. Some criteria for the silhouette coefficient is provided in the table below."
      ]
    },
    {
      "cell_type": "markdown",
      "metadata": {
        "id": "Prh3gX9NymYC"
      },
      "source": [
        "<pre>\n",
        "\n",
        "| Range       | Interpretation                                |\n",
        "|-------------|-----------------------------------------------|\n",
        "| 0.71 - 1.0  | A strong structure has been found.            |\n",
        "| 0.51 - 0.7  | A reasonable structure has been found.        |\n",
        "| 0.26 - 0.5  | The structure is weak and could be artificial.|\n",
        "| < 0.25      | No substantial structure has been found.      |\n",
        "\n",
        "</pre>\n",
        "Source: http://www.stat.berkeley.edu/~spector/s133/Clus.html"
      ]
    },
    {
      "cell_type": "markdown",
      "metadata": {
        "id": "LFdwQkQGymYC"
      },
      "source": [
        "**Hint**: Scikit-learn provides a function to compute this for us (phew!) called [`sklearn.metrics.silhouette_score`](http://scikit-learn.org/stable/modules/generated/sklearn.metrics.silhouette_score.html). Take a look at [this article](http://scikit-learn.org/stable/auto_examples/cluster/plot_kmeans_silhouette_analysis.html) on picking $K$ in scikit-learn, as it will help you in the next exercise set."
      ]
    },
    {
      "cell_type": "markdown",
      "metadata": {
        "id": "WQ1xRm9fymYD"
      },
      "source": [
        "<div class=\"span5 alert alert-info\">\n",
        "<h3>Checkup Exercise Set III</h3>\n",
        "\n",
        "<p><b>Exercise:</b> Using the documentation for the `silhouette_score` function above, construct a series of silhouette plots like the ones in the article linked above.</p>\n",
        "\n",
        "<p><b>Exercise:</b> Compute the average silhouette score for each $K$ and plot it. What $K$ does the plot suggest we should choose? Does it differ from what we found using the Elbow method?</p>\n",
        "</div>"
      ]
    },
    {
      "cell_type": "code",
      "execution_count": null,
      "metadata": {
        "id": "IZXVFtvXymYE"
      },
      "outputs": [],
      "source": [
        "# Your turn.\n"
      ]
    },
    {
      "cell_type": "markdown",
      "metadata": {
        "id": "Rol4xvqzymYH"
      },
      "source": [
        "#### 3aiii.  Choosing $K$: The Gap Statistic\n",
        "\n",
        "There is one last method worth covering for picking $K$, the so-called Gap statistic. The computation for the gap statistic builds on the sum-of-squares established in the Elbow method discussion, and compares it to the sum-of-squares of a \"null distribution,\" that is, a random set of points with no clustering. The estimate for the optimal number of clusters $K$ is the value for which $\\log{SS}$ falls the farthest below that of the reference distribution:\n",
        "\n",
        "$$G_k = E_n^*\\{\\log SS_k\\} - \\log SS_k$$\n",
        "\n",
        "In other words a good clustering yields a much larger difference between the reference distribution and the clustered data. The reference distribution is a Monte Carlo (randomization) procedure that constructs $B$ random distributions of points within the bounding box (limits) of the original data and then applies K-means to this synthetic distribution of data points.. $E_n^*\\{\\log SS_k\\}$ is just the average $SS_k$ over all $B$ replicates. We then compute the standard deviation $\\sigma_{SS}$ of the values of $SS_k$ computed from the $B$ replicates of the reference distribution and compute\n",
        "\n",
        "$$s_k = \\sqrt{1+1/B}\\sigma_{SS}$$\n",
        "\n",
        "Finally, we choose $K=k$ such that $G_k \\geq G_{k+1} - s_{k+1}$."
      ]
    },
    {
      "cell_type": "markdown",
      "metadata": {
        "id": "_e6PSKcVymYI"
      },
      "source": [
        "#### Aside: Choosing $K$ when we Have Labels\n",
        "\n",
        "Unsupervised learning expects that we do not have the labels. In some situations, we may wish to cluster data that is labeled. Computing the optimal number of clusters is much easier if we have access to labels. There are several methods available. We will not go into the math or details since it is rare to have access to the labels, but we provide the names and references of these measures.\n",
        "\n",
        "* Adjusted Rand Index\n",
        "* Mutual Information\n",
        "* V-Measure\n",
        "* Fowlkes–Mallows index\n",
        "\n",
        "**Hint:** See [this article](http://scikit-learn.org/stable/modules/clustering.html) for more information about these metrics."
      ]
    },
    {
      "cell_type": "markdown",
      "metadata": {
        "id": "eHsqcXTIymYI"
      },
      "source": [
        "### 3b. Visualizing Clusters using PCA\n",
        "\n",
        "How do we visualize clusters? If we only had two features, we could likely plot the data as is. But we have 100 data points each containing 32 features (dimensions). Principal Component Analysis (PCA) will help us reduce the dimensionality of our data from 32 to something lower. For a visualization on the coordinate plane, we will use 2 dimensions. In this exercise, we're going to use it to transform our multi-dimensional dataset into a 2 dimensional dataset.\n",
        "\n",
        "This is only one use of PCA for dimension reduction. We can also use PCA when we want to perform regression but we have a set of highly correlated variables. PCA untangles these correlations into a smaller number of features/predictors all of which are orthogonal (not correlated). PCA is also used to reduce a large set of variables into a much smaller one.\n",
        "\n",
        "**Hint:** PCA was discussed in the previous subunit. If you need help with it, consult [this useful article](https://towardsdatascience.com/a-one-stop-shop-for-principal-component-analysis-5582fb7e0a9c) and [this visual explanation](http://setosa.io/ev/principal-component-analysis/)."
      ]
    },
    {
      "cell_type": "markdown",
      "metadata": {
        "id": "O2A8l0xOymYJ"
      },
      "source": [
        "<div class=\"span5 alert alert-info\">\n",
        "<h3>Checkup Exercise Set IV</h3>\n",
        "\n",
        "<p><b>Exercise:</b> Use PCA to plot your clusters:</p>\n",
        "\n",
        "<ul>\n",
        "<li> Use scikit-learn's [`PCA`](http://scikit-learn.org/stable/modules/generated/sklearn.decomposition.PCA.html) function to reduce the dimensionality of your clustering data to 2 components\n",
        "<li> Create a data frame with the following fields:\n",
        "  <ul>\n",
        "  <li> customer name\n",
        "  <li> cluster id the customer belongs to\n",
        "  <li> the two PCA components (label them `x` and `y`)\n",
        "  </ul>\n",
        "<li> Plot a scatterplot of the `x` vs `y` columns\n",
        "<li> Color-code points differently based on cluster ID\n",
        "<li> How do the clusters look?\n",
        "<li> Based on what you see, what seems to be the best value for $K$? Moreover, which method of choosing $K$ seems to have produced the optimal result visually?\n",
        "</ul>\n",
        "\n",
        "<p><b>Exercise:</b> Now look at both the original raw data about the offers and transactions and look at the fitted clusters. Tell a story about the clusters in context of the original data. For example, do the clusters correspond to wine variants or something else interesting?</p>\n",
        "</div>"
      ]
    },
    {
      "cell_type": "code",
      "execution_count": null,
      "metadata": {
        "id": "gPLWFI_symYK"
      },
      "outputs": [],
      "source": [
        "#your turn\n"
      ]
    },
    {
      "cell_type": "markdown",
      "metadata": {
        "id": "ip7bNDsDymYM"
      },
      "source": [
        "What we've done is we've taken those columns of 0/1 indicator variables, and we've transformed them into a 2-D dataset. We took one column and arbitrarily called it `x` and then called the other `y`. Now we can throw each point into a scatterplot. We color coded each point based on it's cluster so it's easier to see them."
      ]
    },
    {
      "cell_type": "markdown",
      "metadata": {
        "id": "30rRDyjzymYN"
      },
      "source": [
        "<div class=\"span5 alert alert-info\">\n",
        "<h3>Exercise Set V</h3>\n",
        "\n",
        "<p>As we saw earlier, PCA has a lot of other uses. Since we wanted to visualize our data in 2 dimensions, restricted the number of dimensions to 2 in PCA. But what is the true optimal number of dimensions?</p>\n",
        "\n",
        "<p><b>Exercise:</b> Using a new PCA object shown in the next cell, plot the `explained_variance_` field and look for the elbow point, the point where the curve's rate of descent seems to slow sharply. This value is one possible value for the optimal number of dimensions. What is it?</p>\n",
        "</div>"
      ]
    },
    {
      "cell_type": "code",
      "execution_count": null,
      "metadata": {
        "id": "GeC4yWmiymYO"
      },
      "outputs": [],
      "source": [
        "#your turn\n",
        "# Initialize a new PCA model with a default number of components.\n",
        "import sklearn.decomposition\n",
        "pca = sklearn.decomposition.PCA()\n",
        "pca.fit(X)\n",
        "\n",
        "# Do the rest on your own :)\n"
      ]
    },
    {
      "cell_type": "markdown",
      "metadata": {
        "id": "_a0Q7XtFymYR"
      },
      "source": [
        "## 4. Conclusions and next steps\n",
        "### 4a. Conclusions\n",
        "What can you conclude from your investigations? Make a note, formulate it as clearly as possible, and be prepared to discuss it with your mentor in your next call."
      ]
    },
    {
      "cell_type": "markdown",
      "metadata": {
        "id": "gyu7Drl4ymYR"
      },
      "source": [
        "### 4b. Other clustering algorithms\n",
        "\n",
        "k-means is only one of a ton of clustering algorithms. Below is a brief description of several clustering algorithms, and the table provides references to the other clustering algorithms in scikit-learn.\n",
        "\n",
        "* **Affinity Propagation** does not require the number of clusters $K$ to be known in advance! AP uses a \"message passing\" paradigm to cluster points based on their similarity.\n",
        "\n",
        "* **Spectral Clustering** uses the eigenvalues of a similarity matrix to reduce the dimensionality of the data before clustering in a lower dimensional space. This is tangentially similar to what we did to visualize k-means clusters using PCA. The number of clusters must be known a priori.\n",
        "\n",
        "* **Ward's Method** applies to hierarchical clustering. Hierarchical clustering algorithms take a set of data and successively divide the observations into more and more clusters at each layer of the hierarchy. Ward's method is used to determine when two clusters in the hierarchy should be combined into one. It is basically an extension of hierarchical clustering. Hierarchical clustering is *divisive*, that is, all observations are part of the same cluster at first, and at each successive iteration, the clusters are made smaller and smaller. With hierarchical clustering, a hierarchy is constructed, and there is not really the concept of \"number of clusters.\" The number of clusters simply determines how low or how high in the hierarchy we reference and can be determined empirically or by looking at the [dendogram](https://docs.scipy.org/doc/scipy-0.18.1/reference/generated/scipy.cluster.hierarchy.dendrogram.html).\n",
        "\n",
        "* **Agglomerative Clustering** is similar to hierarchical clustering but but is not divisive, it is *agglomerative*. That is, every observation is placed into its own cluster and at each iteration or level or the hierarchy, observations are merged into fewer and fewer clusters until convergence. Similar to hierarchical clustering, the constructed hierarchy contains all possible numbers of clusters and it is up to the analyst to pick the number by reviewing statistics or the dendogram.\n",
        "\n",
        "* **DBSCAN** is based on point density rather than distance. It groups together points with many nearby neighbors. DBSCAN is one of the most cited algorithms in the literature. It does not require knowing the number of clusters a priori, but does require specifying the neighborhood size."
      ]
    },
    {
      "cell_type": "markdown",
      "metadata": {
        "id": "8tRpy3OaymYS"
      },
      "source": [
        "### Clustering Algorithms in Scikit-learn\n",
        "<table border=\"1\">\n",
        "<colgroup>\n",
        "<col width=\"15%\" />\n",
        "<col width=\"16%\" />\n",
        "<col width=\"20%\" />\n",
        "<col width=\"27%\" />\n",
        "<col width=\"22%\" />\n",
        "</colgroup>\n",
        "<thead valign=\"bottom\">\n",
        "<tr><th>Method name</th>\n",
        "<th>Parameters</th>\n",
        "<th>Scalability</th>\n",
        "<th>Use Case</th>\n",
        "<th>Geometry (metric used)</th>\n",
        "</tr>\n",
        "</thead>\n",
        "<tbody valign=\"top\">\n",
        "<tr><td>K-Means</span></a></td>\n",
        "<td>number of clusters</td>\n",
        "<td>Very large<span class=\"pre\">n_samples</span>, medium <span class=\"pre\">n_clusters</span> with\n",
        "MiniBatch code</td>\n",
        "<td>General-purpose, even cluster size, flat geometry, not too many clusters</td>\n",
        "<td>Distances between points</td>\n",
        "</tr>\n",
        "<tr><td>Affinity propagation</td>\n",
        "<td>damping, sample preference</td>\n",
        "<td>Not scalable with n_samples</td>\n",
        "<td>Many clusters, uneven cluster size, non-flat geometry</td>\n",
        "<td>Graph distance (e.g. nearest-neighbor graph)</td>\n",
        "</tr>\n",
        "<tr><td>Mean-shift</td>\n",
        "<td>bandwidth</td>\n",
        "<td>Not scalable with <span class=\"pre\">n_samples</span></td>\n",
        "<td>Many clusters, uneven cluster size, non-flat geometry</td>\n",
        "<td>Distances between points</td>\n",
        "</tr>\n",
        "<tr><td>Spectral clustering</td>\n",
        "<td>number of clusters</td>\n",
        "<td>Medium <span class=\"pre\">n_samples</span>, small <span class=\"pre\">n_clusters</span></td>\n",
        "<td>Few clusters, even cluster size, non-flat geometry</td>\n",
        "<td>Graph distance (e.g. nearest-neighbor graph)</td>\n",
        "</tr>\n",
        "<tr><td>Ward hierarchical clustering</td>\n",
        "<td>number of clusters</td>\n",
        "<td>Large <span class=\"pre\">n_samples</span> and <span class=\"pre\">n_clusters</span></td>\n",
        "<td>Many clusters, possibly connectivity constraints</td>\n",
        "<td>Distances between points</td>\n",
        "</tr>\n",
        "<tr><td>Agglomerative clustering</td>\n",
        "<td>number of clusters, linkage type, distance</td>\n",
        "<td>Large <span class=\"pre\">n_samples</span> and <span class=\"pre\">n_clusters</span></td>\n",
        "<td>Many clusters, possibly connectivity constraints, non Euclidean\n",
        "distances</td>\n",
        "<td>Any pairwise distance</td>\n",
        "</tr>\n",
        "<tr><td>DBSCAN</td>\n",
        "<td>neighborhood size</td>\n",
        "<td>Very large <span class=\"pre\">n_samples</span>, medium <span class=\"pre\">n_clusters</span></td>\n",
        "<td>Non-flat geometry, uneven cluster sizes</td>\n",
        "<td>Distances between nearest points</td>\n",
        "</tr>\n",
        "<tr><td>Gaussian mixtures</td>\n",
        "<td>many</td>\n",
        "<td>Not scalable</td>\n",
        "<td>Flat geometry, good for density estimation</td>\n",
        "<td>Mahalanobis distances to  centers</td>\n",
        "</tr>\n",
        "<tr><td>Birch</td>\n",
        "<td>branching factor, threshold, optional global clusterer.</td>\n",
        "<td>Large <span class=\"pre\">n_clusters</span> and <span class=\"pre\">n_samples</span></td>\n",
        "<td>Large dataset, outlier removal, data reduction.</td>\n",
        "<td>Euclidean distance between points</td>\n",
        "</tr>\n",
        "</tbody>\n",
        "</table>\n",
        "Source: http://scikit-learn.org/stable/modules/clustering.html"
      ]
    },
    {
      "cell_type": "markdown",
      "metadata": {
        "id": "-vRkKRGGymYT"
      },
      "source": [
        "<div class=\"span5 alert alert-info\">\n",
        "<h3>Exercise Set VI</h3>\n",
        "\n",
        "<p><b>Exercise:</b> Try clustering using the following algorithms. </p>\n",
        "<ol>\n",
        "<li>Affinity propagation\n",
        "<li>Spectral clustering\n",
        "<li>Agglomerative clustering\n",
        "<li>DBSCAN\n",
        "</ol>\n",
        "<p>How do their results compare? Which performs the best? Tell a story why you think it performs the best.</p>\n",
        "</div>\n"
      ]
    },
    {
      "cell_type": "code",
      "execution_count": null,
      "metadata": {
        "id": "LXJB660zymYT"
      },
      "outputs": [],
      "source": [
        "# Your turn"
      ]
    }
  ],
  "metadata": {
    "anaconda-cloud": {},
    "colab": {
      "name": "Clustering Case Study - Customer Segmentation with K-Means - Tier 3.ipynb",
      "provenance": [],
      "include_colab_link": true
    },
    "kernelspec": {
      "display_name": "Python 3",
      "language": "python",
      "name": "python3"
    },
    "language_info": {
      "codemirror_mode": {
        "name": "ipython",
        "version": 3
      },
      "file_extension": ".py",
      "mimetype": "text/x-python",
      "name": "python",
      "nbconvert_exporter": "python",
      "pygments_lexer": "ipython3",
      "version": "3.7.4"
    }
  },
  "nbformat": 4,
  "nbformat_minor": 0
}